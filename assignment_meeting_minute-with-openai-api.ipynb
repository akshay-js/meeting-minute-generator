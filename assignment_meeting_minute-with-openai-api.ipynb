{
  "cells": [
    {
      "cell_type": "code",
      "execution_count": null,
      "metadata": {
        "colab": {
          "base_uri": "https://localhost:8080/"
        },
        "collapsed": true,
        "id": "w1UcKaKsj8cC",
        "outputId": "f3b73f4a-5fcb-469f-f85b-4319fe6d53d5"
      },
      "outputs": [
        {
          "name": "stdout",
          "output_type": "stream",
          "text": [
            "Collecting openai\n",
            "  Downloading openai-1.30.5-py3-none-any.whl (320 kB)\n",
            "\u001b[?25l     \u001b[90m━━━━━━━━━━━━━━━━━━━━━━━━━━━━━━━━━━━━━━━━\u001b[0m \u001b[32m0.0/320.7 kB\u001b[0m \u001b[31m?\u001b[0m eta \u001b[36m-:--:--\u001b[0m\r\u001b[2K     \u001b[91m━━━━━━━━━━━━━━\u001b[0m\u001b[90m╺\u001b[0m\u001b[90m━━━━━━━━━━━━━━━━━━━━━━━━━\u001b[0m \u001b[32m112.6/320.7 kB\u001b[0m \u001b[31m3.2 MB/s\u001b[0m eta \u001b[36m0:00:01\u001b[0m\r\u001b[2K     \u001b[90m━━━━━━━━━━━━━━━━━━━━━━━━━━━━━━━━━━━━━━━━\u001b[0m \u001b[32m320.7/320.7 kB\u001b[0m \u001b[31m5.3 MB/s\u001b[0m eta \u001b[36m0:00:00\u001b[0m\n",
            "\u001b[?25hRequirement already satisfied: anyio<5,>=3.5.0 in /usr/local/lib/python3.10/dist-packages (from openai) (3.7.1)\n",
            "Requirement already satisfied: distro<2,>=1.7.0 in /usr/lib/python3/dist-packages (from openai) (1.7.0)\n",
            "Collecting httpx<1,>=0.23.0 (from openai)\n",
            "  Downloading httpx-0.27.0-py3-none-any.whl (75 kB)\n",
            "\u001b[2K     \u001b[90m━━━━━━━━━━━━━━━━━━━━━━━━━━━━━━━━━━━━━━━━\u001b[0m \u001b[32m75.6/75.6 kB\u001b[0m \u001b[31m4.9 MB/s\u001b[0m eta \u001b[36m0:00:00\u001b[0m\n",
            "\u001b[?25hRequirement already satisfied: pydantic<3,>=1.9.0 in /usr/local/lib/python3.10/dist-packages (from openai) (2.7.1)\n",
            "Requirement already satisfied: sniffio in /usr/local/lib/python3.10/dist-packages (from openai) (1.3.1)\n",
            "Requirement already satisfied: tqdm>4 in /usr/local/lib/python3.10/dist-packages (from openai) (4.66.4)\n",
            "Requirement already satisfied: typing-extensions<5,>=4.7 in /usr/local/lib/python3.10/dist-packages (from openai) (4.11.0)\n",
            "Requirement already satisfied: idna>=2.8 in /usr/local/lib/python3.10/dist-packages (from anyio<5,>=3.5.0->openai) (3.7)\n",
            "Requirement already satisfied: exceptiongroup in /usr/local/lib/python3.10/dist-packages (from anyio<5,>=3.5.0->openai) (1.2.1)\n",
            "Requirement already satisfied: certifi in /usr/local/lib/python3.10/dist-packages (from httpx<1,>=0.23.0->openai) (2024.2.2)\n",
            "Collecting httpcore==1.* (from httpx<1,>=0.23.0->openai)\n",
            "  Downloading httpcore-1.0.5-py3-none-any.whl (77 kB)\n",
            "\u001b[2K     \u001b[90m━━━━━━━━━━━━━━━━━━━━━━━━━━━━━━━━━━━━━━━━\u001b[0m \u001b[32m77.9/77.9 kB\u001b[0m \u001b[31m7.9 MB/s\u001b[0m eta \u001b[36m0:00:00\u001b[0m\n",
            "\u001b[?25hCollecting h11<0.15,>=0.13 (from httpcore==1.*->httpx<1,>=0.23.0->openai)\n",
            "  Downloading h11-0.14.0-py3-none-any.whl (58 kB)\n",
            "\u001b[2K     \u001b[90m━━━━━━━━━━━━━━━━━━━━━━━━━━━━━━━━━━━━━━━━\u001b[0m \u001b[32m58.3/58.3 kB\u001b[0m \u001b[31m5.4 MB/s\u001b[0m eta \u001b[36m0:00:00\u001b[0m\n",
            "\u001b[?25hRequirement already satisfied: annotated-types>=0.4.0 in /usr/local/lib/python3.10/dist-packages (from pydantic<3,>=1.9.0->openai) (0.7.0)\n",
            "Requirement already satisfied: pydantic-core==2.18.2 in /usr/local/lib/python3.10/dist-packages (from pydantic<3,>=1.9.0->openai) (2.18.2)\n",
            "Installing collected packages: h11, httpcore, httpx, openai\n",
            "Successfully installed h11-0.14.0 httpcore-1.0.5 httpx-0.27.0 openai-1.30.5\n"
          ]
        }
      ],
      "source": [
        "pip install openai"
      ]
    },
    {
      "cell_type": "code",
      "execution_count": null,
      "metadata": {
        "id": "1zD7qlVnmd7y"
      },
      "outputs": [],
      "source": [
        "import openai\n",
        "from openai import OpenAI"
      ]
    },
    {
      "cell_type": "code",
      "execution_count": null,
      "metadata": {
        "colab": {
          "base_uri": "https://localhost:8080/",
          "height": 1000
        },
        "id": "tgnapIfu0-fn",
        "outputId": "dcf5548f-4c83-44ea-d202-89ee9d3cf983"
      },
      "outputs": [
        {
          "data": {
            "text/plain": [
              "Transcription(text=\"We'll call the Clearwater City Council meeting to order, Monday, November 14th, 2022. We pledge allegiance to the flag of the United States of America, and to the republic for which it stands, one nation under God, indivisible, with liberty and justice for all. Thank you. Approval of the agenda. Second, second by Member Lenz. Is there any comment? All in favor? Aye. Opposed? Abstentions? Motion carries. Frank County Sheriff's report. We had 148 calls for service last month, 73 of those in open cases, nothing abnormal or anything like that stuck out. Just a reminder to citizens about not parking on the streets during snow, your vehicles could get towed. Thank you. Public forum. Fire Chief here. I just wanted to kind of talk about something on Wednesday. I presented two firefighters with a accommodation award. I know it was on Facebook. I know some of the members here have commented on that. Thank you. Actually, our deputy back here, Firefighter Newbert, was one of them. Involved saving the life of one of our residents of this community. So it was Josh Newbert and then Jason Lang were the two. So I just want to talk about that. Anything else from public forum? Consent agenda. Is there a motion to approve the consent agenda? Motion to approve. Is there a second? I'll second. Any discussion? All in favor? Aye. Opposed? Abstentions? Motion carries. Oh, business. Ordinance 2022-08 Sportsmen's Park Annexation. Page 70 of your packet covers this. This was talked about in an interview originally, so no surprises here. I could be wrong on my month there. The Park Commission was talking about it before that. So basically it's just a cleanup. So the city acquired a bunch of property across the river that's now known as Sportsman's Park. At the time it was acquired, a bunch of it was annexed. And then we found, looking with Spurns County records, that there was one parcel that was not. So this is a cleanup to annex that remaining parcel. Shaded here. It's a weird, oddly shaped thing. It's basically just an annex in the city so we don't have to co-purchase from Spurns County in order to work at our own park. Is there a motion to approve Ordinance 2022-08? Motion to approve Ordinance 2022-08. Is there a second? I'll second. Any discussion? All in favor? Aye. Opposed? Abstentions? Motion carries. Ordinance 2022-09. Correction to 2022 fee schedule, I think there's one word, right? Go on page 79. One word, which is PERU is replaced with PER account in the sanitary sewer charges. Page 78, I apologize. Yes, this is a new surcharge that was implemented by the sewer authority, and it was intended to be a PER account, not a PER ERU. Is there a motion to accept Ordinance 2022-09, sorry, approve Ordinance 2022-09? I'll motion to accept the change for 2022-09 Ordinance. Is there a second? I'll second. Any discussion? All in favor? Aye. Opposed? Abstentions? Motion carries. Approving File Pay Voucher No. 5 and Change Order No. 2, I-94 Overwater Main Loop. We have a note here from Bolton Mink. I don't know if there's any questions for Justin before we go through with it or anything you want to say about it. I don't have anything specific. Other than the project is complete and the change order is a deduct change order and amount of $34,612, so the final cost came in slightly under for the contract construction portion. That's nice to hear. Yes. Can I get a motion to approve the File Pay Voucher No. 5 and Change Order No. 2? So moved. Is there a second? Second. Any discussion? All in favor? Aye. New Business Resolution 2022-75 to Canvass Election Results and I've lost track. What page am I on? 86. Thank you. All right. Resolution 2022-75, the election results came in and the numbers are on page 86 for you to look at. Is there a motion? Motion to approve Resolution 2022-75. Is there a second? Second. Any discussion? All in favor? Aye. Opposed? Abstentions? Motion carries. Congratulations, members that are here. I think Travis, James, and Sanchez are all here. Congratulations, guys. All right. Resolution 2022-76, Request Variance for Versaile Transport, page 94. And this went to Planning and Zoning and came back to us. Proposed signage exceeds the size limits for the City Code of the Planning Commission recommended approval. Approval of the variance requires a defining of practical difficulties as outlined in Minnesota Statute Section 416.57, which is included in your materials. Thank you. What page is that on? Sorry. That section is on page 98, and then the variance listing the options in the Planning Commission recommendation is on page 101. Thank you. When the Planning Commission met on last Wednesday and they recommended approval of it with some conditions. What is our signage sign limit again? Sorry, I looked it up and I can't find my notes on that. Yeah, I don't recall that I'd have to look in the ordinance, but it's this far exceeds it because this is a... So the city has an existing sign on this, there's a billboard district along I-94, and this is outside of that because this property was just recently annexed, and so the city's zoning map has not been amended to include that, but this is basically a billboard that they want to correct. So it's, it's a much much larger sign. It meets our billboard, our signage ordinance, but it's in line with our billboard ordinance, it's just not in the billboard area. It's not in the billboard area and it's far, far larger than the regular sign ordinance, it's at least double the normal size that we allow. There's a comment in here that the variance allows, will help us anticipate the comprehensive plan, will help us lay out a path for that. The variance will allow the construction of the business sign that is consistent with the use anticipated with the comprehensive plan. Correct, those are the comments from the city planner reviewing the comprehensive plan that was proposed for a future commercial, commercial industrial in the city's comprehensive plan. And so since it's along I-94, to allow larger billboard signs, he's saying is consistent with that. I mean that would be a finding the city council would have to do. This is just planning, the planning commission's language. And then there's a, so there's options in here for the council to either accept or deny and if you accept the planning commission's findings, that's what's listed here. If the council wants to have its own findings and wants to go a different direction, then you need to list out what those findings are. All right. Thank you. Anybody have any thoughts on this? Motion to approve resolution 2022-76. Any discussion? Will this go down the path then or is it specific to the property? Does it go all the way down then? Does it cover? Does it cover the in between signs? I'm wondering if they have to come back for variance for those signs too. So I'm saying with somebody between versatile and... Between like the public works grounds where the old city limits ends and where versatile is, all of those businesses are out of city limits, they do not have to comply with our city code. If they come in now, is that the question? If they come in later, yes, then they would likely need to get variances if they make changes to their property. Thank you. Any other questions? Further discussion? All in favor? Aye. Opposed? Abstentions? Motion carries. Resolution 2022-77 approving site plan and conditional use permit for Vidco. This is a small building that they're looking to move. Page 107 on your packet. And it says it's in... It needs the conditional use permit because of the location, correct? It's in our residential? Correct. It's right next to the laundromat, but the parcel that they're proposing is zoned residential. It is considered an essential service, but essential services in residential districts require a conditional use permit under our ordinance. And why do they have to come out of the lion's park? They don't have to, they want to. They want to expand and the space in the lion's park is too small. They're kind of jammed in where we want to expand the drive too, right? Yeah. So, win-win? Win-win. Win-win. Is that all goes through? Is there a motion to approve resolution 2022-77? So moved. Is there a second? Second. We'll give that one to Mike today. Any further discussion? All in favor? Aye. The motion carries unanimously. We're going to move on to new business D, Ashtray Departments, Pepperidge, and there are three things that are new business. Sorry, new business C, I'm sorry. It's D on this page and C on this page. Yes, that's okay. We're going to go with the agenda and say it's D. I'm sorry. I'm going to go with my cheat code. I'm sorry. I'm going to start it sometimes. ABCD. It's a program that works. It likes to do its own outline. It just changes it. So, we're going to go with the agenda. Resolution 2278, request for variance for parking. We're on page 114 in your packet. And resolution is for a variance of parking. Sorry, I'm going to look at my notes here for reading the packet. So, Pepperidge is asking for a variance to allow its updated site plan shows 90 parking stalls, which is a little bit above two. There's 42 units correct so slightly over double but not at the two and a half stalls. This is the same standard as the one you just approved it's they have to be practical difficulties, the planning commission did recommend approval of this variance and their findings are shown here with their conditions. If the council is not in agreement with that, the council would need to insert their own findings on why they're not there. So, the idea is if we reduce the amount of parking stalls where would guests park if they had guests. That's the question that pops in my head. And remember the one who was planning and zoning and obviously council is not here tonight has that question along with. Disabled spots is enough and I believe that is enough response of 90 are disabled and that makes code, I believe. So we're okay with that question but you're worried about this. Okay. Mr brings us here tonight you have an answer for the council on where we guess part is especially adjacent. Yeah. Okay.\")"
            ]
          },
          "metadata": {},
          "output_type": "display_data"
        }
      ],
      "source": [
        "#meeting audio transcription\n",
        "API_KEY = ''\n",
        "openai = OpenAI(api_key=API_KEY)\n",
        "\n",
        "audio_file= open(\"/content/meeting-recording.m4a\", \"rb\")\n",
        "transcript = openai.audio.transcriptions.create(\n",
        "  model=\"whisper-1\",\n",
        "  file=audio_file\n",
        ")\n",
        "display(transcript)"
      ]
    },
    {
      "cell_type": "code",
      "execution_count": null,
      "metadata": {
        "colab": {
          "base_uri": "https://localhost:8080/",
          "height": 157
        },
        "id": "fWeQfM2WKheb",
        "outputId": "4748e1b3-56ce-4299-986a-589b49bf56d1"
      },
      "outputs": [
        {
          "data": {
            "application/vnd.google.colaboratory.intrinsic+json": {
              "type": "string"
            },
            "text/plain": [
              "\"The Clearwater City Council meeting on November 14th, 2022, covered several key points. The council approved the agenda and the Frank County Sheriff's report, which highlighted 148 calls for service with 73 open cases. The Fire Chief presented two firefighters with an accommodation award for saving a resident's life. The council approved the consent agenda and discussed two ordinances: 2022-08, which pertains to the annexation of a parcel of land for Sportsmen's Park, and 2022-09, which corrects a word in the 2022 fee schedule. The council also approved a change order for the I-94 Overwater Main Loop project, which came in under budget. Election results were canvassed and approved under Resolution 2022-75. A variance for Versaile Transport was approved, allowing for a larger business sign. A site plan and conditional use permit for Vidco were approved, allowing for a small building to be moved. Lastly, a parking variance for Ashtray Apartments was discussed, with concerns raised about guest parking.\""
            ]
          },
          "metadata": {},
          "output_type": "display_data"
        }
      ],
      "source": [
        "#Prompt for meeting minutes\n",
        "\n",
        "response = openai.chat.completions.create(\n",
        "    model=\"gpt-4\",\n",
        "    temperature=0,\n",
        "    messages=[\n",
        "        {\n",
        "            \"role\": \"system\",\n",
        "            \"content\": \"You are a highly skilled AI trained in language comprehension and summarization. I would like you to read the following text and summarize it into a concise abstract paragraph. Aim to retain the most important points, providing a coherent and readable summary that could help a person understand the main points of the discussion without needing to read the entire text. Please avoid unnecessary details or tangential points.\"\n",
        "        },\n",
        "        {\n",
        "            \"role\": \"user\",\n",
        "            \"content\": transcript.text\n",
        "        }\n",
        "    ]\n",
        ")\n",
        "display(response.choices[0].message.content)"
      ]
    },
    {
      "cell_type": "code",
      "execution_count": null,
      "metadata": {
        "colab": {
          "base_uri": "https://localhost:8080/"
        },
        "id": "vdMGuuVDcgHS",
        "outputId": "752b750c-fa0f-489d-9109-9fc49e790673"
      },
      "outputs": [
        {
          "name": "stdout",
          "output_type": "stream",
          "text": [
            "Answer:  1. What was the outcome of the Sheriff's report during the Clearwater City Council meeting on 14th November 2022?\n",
            "   - The Sheriff reported that there were 148 calls for service last month, with 73 open cases. There was nothing abnormal reported. He also reminded citizens not to park on the streets during snow as their vehicles could get towed.\n",
            "\n",
            "2. Who were the firefighters presented with accommodation awards?\n",
            "   - Josh Newbert and Jason Lang were the two firefighters presented with accommodation awards, which was acknowledged for involvement in saving a resident's life. \n",
            "\n",
            "3. What was the conclusion regarding the Ordinance 2022-08 for Sportsmen's Park Annexation?\n",
            "   - The city council approved the ordinance, which was a 'cleanup' to annex a remaining parcel of land to the city that was acquired earlier and recorded incorrectly with Spurns County records. \n",
            "\n",
            "4. What was the correction in the 2022 fee schedule in Ordinance 2022-09?\n",
            "   - The correction was to replace the word \"PERU\" with \"PER account\" in the sanitary sewer charges.\n",
            "\n",
            "5. What was the result of the file Pay Voucher No. 5 and Change Order No. 2 for the I-94 Overwater Main Loop?\n",
            "   - The council approved Pay Voucher No. 5 and Change Order No. 2. The project came in slightly under the budget, with a deduct change order of $34,612.\n",
            "\n",
            "6. What were the election results as per Resolution 2022-75?\n",
            "   - The resolution to canvass the election results was approved, but the specific results weren't mentioned in the provided meeting excerpt.\n",
            "\n",
            "7. What was the issue regarding Versaile Transport's variance request for signage and what was the council's decision?\n",
            "   - Versaile Transport requested a variance as their proposed signage exceeded the size limits of the City Code. The Planning Commission recommended approval of the variance. The council approved resolution 2022-76, granting the variance.\n",
            "\n",
            "8. What was the decision regarding Resolution 2022-77 for Vidco's site plan and conditional use permit?\n",
            "   - The council approved Vidco's site plan and conditional use permit to move a small building, which needed the permit due to its location in a residential zone.\n",
            "\n",
            "9. What was the request made by Ashtray Departments Pepperidge and what was the council's decision?\n",
            "   - Ashtray Departments Pepperidge requested a variance for parking, specifically for allowing a reduction in parking stalls from the standard two and a half per unit to slightly above two for their 42 units. The council didn't make a decision in the provided meeting excerpt, and it's unclear what the ultimate decision was regarding this request.\n"
          ]
        }
      ],
      "source": [
        "# Answering questions\n",
        "def answer_question(transcription, question):\n",
        "    response = openai.chat.completions.create(\n",
        "        model=\"gpt-4\",  # You can choose another model if needed\n",
        "        messages=[\n",
        "        {\n",
        "            \"role\": \"system\",\n",
        "            \"content\": \"You are a highly skilled AI trained in language comprehension and summarization. I would like you to read the content and share some meeting questions & answers.\"\n",
        "        },\n",
        "        {\n",
        "            \"role\": \"user\",\n",
        "            \"content\": transcription\n",
        "        }\n",
        "        ]\n",
        "    )\n",
        "    answer = response.choices[0].message.content\n",
        "    return answer\n",
        "\n",
        "\n",
        "question = \"Could you please share some questions from the meeting?\"\n",
        "answer = answer_question(transcript.text, question)\n",
        "print(\"Answer: \", answer)\n",
        "\n",
        "\n"
      ]
    }
  ],
  "metadata": {
    "colab": {
      "provenance": []
    },
    "kernelspec": {
      "display_name": "Python 3",
      "name": "python3"
    },
    "language_info": {
      "name": "python"
    }
  },
  "nbformat": 4,
  "nbformat_minor": 0
}
